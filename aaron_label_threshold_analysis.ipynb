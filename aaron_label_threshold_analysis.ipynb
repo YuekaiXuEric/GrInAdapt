{
 "cells": [
  {
   "cell_type": "code",
   "execution_count": 1,
   "metadata": {},
   "outputs": [],
   "source": [
    "import os\n",
    "import os.path as osp\n",
    "import numpy as np\n",
    "import pandas as pd\n",
    "import matplotlib.pyplot as plt\n",
    "from tqdm import tqdm"
   ]
  },
  {
   "cell_type": "code",
   "execution_count": 1,
   "metadata": {},
   "outputs": [
    {
     "name": "stdout",
     "output_type": "stream",
     "text": [
      "Copied folder 1122 to /projects/chimera/zucksliu/AI-READI-2.0/dataset/retinal_octa/Averaged_results_test\n"
     ]
    }
   ],
   "source": [
    "import os\n",
    "import shutil\n",
    "\n",
    "# Define source and destination directories.\n",
    "src_dir = '/data/zucksliu/ahonjaya_tempura_migrated/ahonjaya/logs/AI-READI-Results/OCTA/Averaged_Results'\n",
    "dst_dir = '/projects/chimera/zucksliu/AI-READI-2.0/dataset/retinal_octa/Averaged_results_test'\n",
    "\n",
    "# List of subfolder names to copy.\n",
    "folders_to_copy = ['1122']\n",
    "\n",
    "# Create destination directory if it doesn't exist.\n",
    "if not os.path.exists(dst_dir):\n",
    "    os.makedirs(dst_dir)\n",
    "\n",
    "# Loop over the specified folder names.\n",
    "for folder_name in folders_to_copy:\n",
    "    src_path = os.path.join(src_dir, folder_name)\n",
    "    dst_path = os.path.join(dst_dir, folder_name)\n",
    "\n",
    "    if os.path.exists(src_path):\n",
    "        # Copy the entire folder recursively.\n",
    "        shutil.copytree(src_path, dst_path)\n",
    "        print(f\"Copied folder {folder_name} to {dst_dir}\")\n",
    "    else:\n",
    "        print(f\"Folder {folder_name} does not exist in {src_dir}\")"
   ]
  },
  {
   "cell_type": "code",
   "execution_count": 9,
   "metadata": {},
   "outputs": [
    {
     "name": "stdout",
     "output_type": "stream",
     "text": [
      "[7323 1315 1071 ... 1122 7395 7209]\n"
     ]
    }
   ],
   "source": [
    "root = '/projects/chimera/zucksliu/AI-READI-2.0/dataset/'\n",
    "octa_dir = root + 'retinal_octa/'\n",
    "octa_manifest_tsv = octa_dir + 'manifest.tsv'\n",
    "\n",
    "full_manifest = pd.read_csv(octa_manifest_tsv, sep='\\t')\n",
    "\n",
    "if 'participant_id' not in full_manifest.columns:\n",
    "    raise ValueError(\"The manifest must contain a 'participant_id' column for splitting.\")\n",
    "\n",
    "unique_ids = full_manifest['participant_id'].unique()\n",
    "np.random.seed(42)\n",
    "np.random.shuffle(unique_ids)\n",
    "\n",
    "split_idx = int(0.9 * len(unique_ids))\n",
    "selected_ids = unique_ids\n",
    "manifest = full_manifest[full_manifest['participant_id'].isin(selected_ids)].reset_index(drop=True)\n",
    "\n",
    "print(selected_ids)"
   ]
  },
  {
   "cell_type": "code",
   "execution_count": 12,
   "metadata": {},
   "outputs": [
    {
     "name": "stderr",
     "output_type": "stream",
     "text": [
      "Processing participants: 100%|██████████| 1060/1060 [00:06<00:00, 166.40it/s]"
     ]
    },
    {
     "name": "stdout",
     "output_type": "stream",
     "text": [
      "Success patient: 868\n",
      "Success image: 7303\n",
      "Fail_image: 3193\n",
      "Total image: 10496\n",
      "patient: 1060\n"
     ]
    },
    {
     "name": "stderr",
     "output_type": "stream",
     "text": [
      "\n"
     ]
    }
   ],
   "source": [
    "class_names = ['Background', 'Capillary', 'Artery', 'Vein', 'FAZ']\n",
    "probabilities_by_class = {cls: [] for cls in class_names}\n",
    "\n",
    "# Group the manifest by participant_id.\n",
    "grouped = manifest.groupby('participant_id')\n",
    "i=0\n",
    "base_dir = '/data/zucksliu/ahonjaya_tempura_migrated/ahonjaya/logs/AI-READI-Results/Registration_Merging_Results_v2/OCTA/'\n",
    "fail = set()\n",
    "success = set()\n",
    "fail_image = set()\n",
    "all_p = set()\n",
    "success_image = set()\n",
    "success_patient = set()\n",
    "fail_patient = set()\n",
    "patients = set()\n",
    "# Loop over each selected participant.\n",
    "for p_id in tqdm(selected_ids, desc='Processing participants'):\n",
    "    group_df = grouped.get_group(p_id)\n",
    "    for idx, row in group_df.iterrows():\n",
    "        # Build the folder structure based on the new directory organization.\n",
    "        # The first folder is named \"{p_id}_{laterality}\"\n",
    "        folder1 = osp.join(base_dir, f\"{p_id}_{row['laterality']}\")\n",
    "        # The second folder is named \"{manufacturers_model_name}_{anatomic_region}\"\n",
    "        folder2 = osp.join(folder1, f\"{row['manufacturers_model_name']}_{row['anatomic_region']}\")\n",
    "        # Within that folder, go into the \"npy\" subfolder.\n",
    "        npy_folder = osp.join(folder2, \"npy\")\n",
    "        # The file we want to load is \"softmax.npy\".\n",
    "        softmax_path = osp.join(npy_folder, \"softmax.npy\")\n",
    "        if os.path.exists(softmax_path):\n",
    "            data_label = np.load(softmax_path)\n",
    "            # Assume data_label is a numpy array of shape (C, H, W)\n",
    "            # Compute predicted labels and then get probabilities per class.\n",
    "            predicted = np.argmax(data_label, axis=0)\n",
    "            for i, cls in enumerate(class_names):\n",
    "                mask = (predicted == i)\n",
    "                class_probs = data_label[i][mask]\n",
    "                probabilities_by_class[cls].extend(class_probs.tolist())\n",
    "                # print(data_label[i])\n",
    "            success_image.add(f\"{row['associated_enface_1_file_path']}\")\n",
    "            success_patient.add(f\"{row['participant_id']}\")\n",
    "            # success.add(f\"{row['participant_id']}_{row['laterality']}\")\n",
    "        else:\n",
    "            # fail.add(f\"{row['participant_id']}_{row['laterality']}\")\n",
    "            fail_image.add(f\"{row['associated_enface_1_file_path']}\")\n",
    "            # fail_patient.add(f\"{row['participant_id']}\")\n",
    "        all_p.add(f\"{row['associated_enface_1_file_path']}\")\n",
    "        patients.add(f\"{row['participant_id']}\")\n",
    "\n",
    "print(f\"Success patient: {len(success_patient)}\")\n",
    "print(f\"Success image: {len(success_image)}\")\n",
    "print(f\"Fail_image: {len(fail_image)}\")\n",
    "print(f\"Total image: {len(all_p)}\")\n",
    "print(f\"patient: {len(patients)}\")\n",
    "# print(patients)\n",
    "\n",
    "# success_manifest = manifest[(manifest['associated_enface_1_file_path']).isin(success_image)].copy()\n",
    "# success_manifest = success_manifest.drop_duplicates(subset=['participant_id', 'manufacturers_model_name', 'anatomic_region', 'laterality'], keep='last')\n",
    "# success_manifest.to_csv('/projects/chimera/zucksliu/AI-READI-2.0/dataset/retinal_octa/success_manifest_train_w_no_dups.tsv', sep='\\t', index=False)\n",
    "# print(\"Success manifest saved to 'success_manifest.tsv'\")\n"
   ]
  },
  {
   "cell_type": "code",
   "execution_count": 58,
   "metadata": {},
   "outputs": [
    {
     "name": "stdout",
     "output_type": "stream",
     "text": [
      "[0.02945686 0.86489886 0.86859894 ... 0.75394696 0.03530205 0.85010427]\n",
      "[0.89690572 0.89354295 0.90112537 ... 0.91842127 0.92655158 0.93069714]\n",
      "[0.90199047 0.90714902 0.900832   ... 0.92139894 0.92733878 0.91416281]\n",
      "[0.92856765 0.9272688  0.92598963 ... 0.92735982 0.91931075 0.939816  ]\n",
      "[0.88372326 0.89618975 0.87015986 ... 0.93117833 0.92817801 0.92428201]\n"
     ]
    },
    {
     "data": {
      "image/png": "[encoded data removed]",
      "text/plain": [
       "<Figure size 1500x400 with 5 Axes>"
      ]
     },
     "metadata": {},
     "output_type": "display_data"
    }
   ],
   "source": [
    "plt.figure(figsize=(15, 4))\n",
    "for i, cls in enumerate(class_names):\n",
    "    plt.subplot(1, 5, i+1)\n",
    "    probs = np.array(probabilities_by_class[cls])\n",
    "    print(probs)\n",
    "    plt.hist(probs, bins=30, range=(0, 1), color='skyblue', edgecolor='black')\n",
    "    plt.title(cls)\n",
    "    plt.xlabel('Probability')\n",
    "    plt.ylabel('Count')\n",
    "plt.tight_layout()\n",
    "plt.show()"
   ]
  },
  {
   "cell_type": "code",
   "execution_count": 59,
   "metadata": {},
   "outputs": [
    {
     "name": "stdout",
     "output_type": "stream",
     "text": [
      "Saved manifest for all successful rows to: /projects/chimera/zucksliu/AI-READI-2.0/dataset/retinal_octa/manifest_all_success.tsv\n"
     ]
    }
   ],
   "source": [
    "import os\n",
    "import os.path as osp\n",
    "import pandas as pd\n",
    "import numpy as np\n",
    "from tqdm import tqdm\n",
    "\n",
    "# Set the root directories.\n",
    "# The original manifest is assumed to be in the \"retinal_octa\" folder under the dataset root.\n",
    "root = '/projects/chimera/zucksliu/AI-READI-2.0/dataset/'\n",
    "octa_dir = osp.join(root, 'retinal_octa')\n",
    "manifest_path = osp.join(octa_dir, 'manifest.tsv')\n",
    "\n",
    "# Load the manifest.\n",
    "manifest = pd.read_csv(manifest_path, sep='\\t')\n",
    "\n",
    "if 'participant_id' not in manifest.columns:\n",
    "    raise ValueError(\"The manifest must contain a 'participant_id' column.\")\n",
    "\n",
    "# Set the base directory for the new folder structure.\n",
    "# In this new organization, each row's corresponding softmax file is expected to be at:\n",
    "# {base_dir}/{participant_id}_{laterality}/{manufacturers_model_name}_{anatomic_region}/npy/softmax.npy\n",
    "base_dir = '/data/zucksliu/ahonjaya_tempura_migrated/ahonjaya/logs/AI-READI-Results/Registration_Merging_Results_v2/OCTA/'\n",
    "\n",
    "def softmax_file_exists(row):\n",
    "    \"\"\"\n",
    "    Given a row from the manifest, build the expected path for softmax.npy and return True if it exists.\n",
    "    \"\"\"\n",
    "    # Remove any extra whitespace by stripping the string fields.\n",
    "    participant_id = str(row['participant_id']).strip()\n",
    "    laterality = str(row['laterality']).strip()\n",
    "    manufacturers_model_name = str(row['manufacturers_model_name']).strip()\n",
    "    anatomic_region = str(row['anatomic_region']).strip()\n",
    "\n",
    "    folder1 = osp.join(base_dir, f\"{participant_id}_{laterality}\")\n",
    "    folder2 = osp.join(folder1, f\"{manufacturers_model_name}_{anatomic_region}\")\n",
    "    npy_folder = osp.join(folder2, \"npy\")\n",
    "    softmax_path = osp.join(npy_folder, \"softmax.npy\")\n",
    "    return os.path.exists(softmax_path)\n",
    "\n",
    "# Apply the file existence check to each row.\n",
    "# This will create a new column 'exists' that is True if the softmax file is found.\n",
    "manifest['exists'] = manifest.apply(softmax_file_exists, axis=1)\n",
    "\n",
    "# Filter the manifest to only rows where the softmax file exists.\n",
    "success_manifest = manifest[manifest['exists']].copy()\n",
    "\n",
    "# Drop the helper 'exists' column so that the output has exactly the same columns as the original manifest.\n",
    "success_manifest.drop(columns=['exists'], inplace=True)\n",
    "\n",
    "# Save the filtered manifest to a TSV file.\n",
    "output_path = osp.join(octa_dir, \"manifest_all_success.tsv\")\n",
    "success_manifest.to_csv(output_path, sep='\\t', index=False)\n",
    "\n",
    "print(f\"Saved manifest for all successful rows to: {output_path}\")"
   ]
  }
 ],
 "metadata": {
  "kernelspec": {
   "display_name": "cpr",
   "language": "python",
   "name": "python3"
  },
  "language_info": {
   "codemirror_mode": {
    "name": "ipython",
    "version": 3
   },
   "file_extension": ".py",
   "mimetype": "text/x-python",
   "name": "python",
   "nbconvert_exporter": "python",
   "pygments_lexer": "ipython3",
   "version": "3.9.12"
  }
 },
 "nbformat": 4,
 "nbformat_minor": 2
}
